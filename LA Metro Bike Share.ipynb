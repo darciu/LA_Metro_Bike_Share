{
 "cells": [
  {
   "cell_type": "markdown",
   "metadata": {},
   "source": [
    "Data source: ht<span></span>tps://www.kaggle.com/cityofLA/los-angeles-metro-bike-share-trip-data <br>\n",
    "Dataset contains details about bike rental from LA Metro Bike Share"
   ]
  },
  {
   "cell_type": "code",
   "execution_count": 1,
   "metadata": {},
   "outputs": [],
   "source": [
    "import math\n",
    "import pandas as pd\n",
    "import numpy as np\n",
    "import seaborn as sns\n",
    "from sklearn.linear_model import LogisticRegression\n",
    "from sklearn.metrics import accuracy_score\n",
    "from sklearn.model_selection import train_test_split\n",
    "from sklearn.tree import DecisionTreeClassifier\n",
    "from sklearn.ensemble import ExtraTreesClassifier\n",
    "\n",
    "pd.set_option('display.max_columns', None)\n"
   ]
  },
  {
   "cell_type": "code",
   "execution_count": 2,
   "metadata": {},
   "outputs": [
    {
     "name": "stderr",
     "output_type": "stream",
     "text": [
      "c:\\python36\\lib\\site-packages\\IPython\\core\\interactiveshell.py:2728: DtypeWarning: Columns (14) have mixed types. Specify dtype option on import or set low_memory=False.\n",
      "  interactivity=interactivity, compiler=compiler, result=result)\n"
     ]
    }
   ],
   "source": [
    "df = pd.read_csv('input/metro-bike-share-trip-data.csv')"
   ]
  },
  {
   "cell_type": "markdown",
   "metadata": {},
   "source": [
    "## Overall Information"
   ]
  },
  {
   "cell_type": "code",
   "execution_count": 3,
   "metadata": {},
   "outputs": [
    {
     "data": {
      "text/html": [
       "<div>\n",
       "<style scoped>\n",
       "    .dataframe tbody tr th:only-of-type {\n",
       "        vertical-align: middle;\n",
       "    }\n",
       "\n",
       "    .dataframe tbody tr th {\n",
       "        vertical-align: top;\n",
       "    }\n",
       "\n",
       "    .dataframe thead th {\n",
       "        text-align: right;\n",
       "    }\n",
       "</style>\n",
       "<table border=\"1\" class=\"dataframe\">\n",
       "  <thead>\n",
       "    <tr style=\"text-align: right;\">\n",
       "      <th></th>\n",
       "      <th>Trip ID</th>\n",
       "      <th>Duration</th>\n",
       "      <th>Start Time</th>\n",
       "      <th>End Time</th>\n",
       "      <th>Starting Station ID</th>\n",
       "      <th>Starting Station Latitude</th>\n",
       "      <th>Starting Station Longitude</th>\n",
       "      <th>Ending Station ID</th>\n",
       "      <th>Ending Station Latitude</th>\n",
       "      <th>Ending Station Longitude</th>\n",
       "      <th>Bike ID</th>\n",
       "      <th>Plan Duration</th>\n",
       "      <th>Trip Route Category</th>\n",
       "      <th>Passholder Type</th>\n",
       "      <th>Starting Lat-Long</th>\n",
       "      <th>Ending Lat-Long</th>\n",
       "    </tr>\n",
       "  </thead>\n",
       "  <tbody>\n",
       "    <tr>\n",
       "      <th>0</th>\n",
       "      <td>1912818</td>\n",
       "      <td>180</td>\n",
       "      <td>2016-07-07T04:17:00</td>\n",
       "      <td>2016-07-07T04:20:00</td>\n",
       "      <td>3014.0</td>\n",
       "      <td>34.056610</td>\n",
       "      <td>-118.23721</td>\n",
       "      <td>3014.0</td>\n",
       "      <td>34.056610</td>\n",
       "      <td>-118.23721</td>\n",
       "      <td>6281.0</td>\n",
       "      <td>30.0</td>\n",
       "      <td>Round Trip</td>\n",
       "      <td>Monthly Pass</td>\n",
       "      <td>{'longitude': '-118.23721', 'latitude': '34.05...</td>\n",
       "      <td>{'longitude': '-118.23721', 'latitude': '34.05...</td>\n",
       "    </tr>\n",
       "    <tr>\n",
       "      <th>1</th>\n",
       "      <td>1919661</td>\n",
       "      <td>1980</td>\n",
       "      <td>2016-07-07T06:00:00</td>\n",
       "      <td>2016-07-07T06:33:00</td>\n",
       "      <td>3014.0</td>\n",
       "      <td>34.056610</td>\n",
       "      <td>-118.23721</td>\n",
       "      <td>3014.0</td>\n",
       "      <td>34.056610</td>\n",
       "      <td>-118.23721</td>\n",
       "      <td>6281.0</td>\n",
       "      <td>30.0</td>\n",
       "      <td>Round Trip</td>\n",
       "      <td>Monthly Pass</td>\n",
       "      <td>{'longitude': '-118.23721', 'latitude': '34.05...</td>\n",
       "      <td>{'longitude': '-118.23721', 'latitude': '34.05...</td>\n",
       "    </tr>\n",
       "    <tr>\n",
       "      <th>2</th>\n",
       "      <td>1933383</td>\n",
       "      <td>300</td>\n",
       "      <td>2016-07-07T10:32:00</td>\n",
       "      <td>2016-07-07T10:37:00</td>\n",
       "      <td>3016.0</td>\n",
       "      <td>34.052898</td>\n",
       "      <td>-118.24156</td>\n",
       "      <td>3016.0</td>\n",
       "      <td>34.052898</td>\n",
       "      <td>-118.24156</td>\n",
       "      <td>5861.0</td>\n",
       "      <td>365.0</td>\n",
       "      <td>Round Trip</td>\n",
       "      <td>Flex Pass</td>\n",
       "      <td>{'longitude': '-118.24156', 'latitude': '34.05...</td>\n",
       "      <td>{'longitude': '-118.24156', 'latitude': '34.05...</td>\n",
       "    </tr>\n",
       "    <tr>\n",
       "      <th>3</th>\n",
       "      <td>1944197</td>\n",
       "      <td>10860</td>\n",
       "      <td>2016-07-07T10:37:00</td>\n",
       "      <td>2016-07-07T13:38:00</td>\n",
       "      <td>3016.0</td>\n",
       "      <td>34.052898</td>\n",
       "      <td>-118.24156</td>\n",
       "      <td>3016.0</td>\n",
       "      <td>34.052898</td>\n",
       "      <td>-118.24156</td>\n",
       "      <td>5861.0</td>\n",
       "      <td>365.0</td>\n",
       "      <td>Round Trip</td>\n",
       "      <td>Flex Pass</td>\n",
       "      <td>{'longitude': '-118.24156', 'latitude': '34.05...</td>\n",
       "      <td>{'longitude': '-118.24156', 'latitude': '34.05...</td>\n",
       "    </tr>\n",
       "    <tr>\n",
       "      <th>4</th>\n",
       "      <td>1940317</td>\n",
       "      <td>420</td>\n",
       "      <td>2016-07-07T12:51:00</td>\n",
       "      <td>2016-07-07T12:58:00</td>\n",
       "      <td>3032.0</td>\n",
       "      <td>34.049889</td>\n",
       "      <td>-118.25588</td>\n",
       "      <td>3032.0</td>\n",
       "      <td>34.049889</td>\n",
       "      <td>-118.25588</td>\n",
       "      <td>6674.0</td>\n",
       "      <td>0.0</td>\n",
       "      <td>Round Trip</td>\n",
       "      <td>Walk-up</td>\n",
       "      <td>{'longitude': '-118.25588', 'latitude': '34.04...</td>\n",
       "      <td>{'longitude': '-118.25588', 'latitude': '34.04...</td>\n",
       "    </tr>\n",
       "  </tbody>\n",
       "</table>\n",
       "</div>"
      ],
      "text/plain": [
       "   Trip ID  Duration           Start Time             End Time  \\\n",
       "0  1912818       180  2016-07-07T04:17:00  2016-07-07T04:20:00   \n",
       "1  1919661      1980  2016-07-07T06:00:00  2016-07-07T06:33:00   \n",
       "2  1933383       300  2016-07-07T10:32:00  2016-07-07T10:37:00   \n",
       "3  1944197     10860  2016-07-07T10:37:00  2016-07-07T13:38:00   \n",
       "4  1940317       420  2016-07-07T12:51:00  2016-07-07T12:58:00   \n",
       "\n",
       "   Starting Station ID  Starting Station Latitude  Starting Station Longitude  \\\n",
       "0               3014.0                  34.056610                  -118.23721   \n",
       "1               3014.0                  34.056610                  -118.23721   \n",
       "2               3016.0                  34.052898                  -118.24156   \n",
       "3               3016.0                  34.052898                  -118.24156   \n",
       "4               3032.0                  34.049889                  -118.25588   \n",
       "\n",
       "   Ending Station ID  Ending Station Latitude  Ending Station Longitude  \\\n",
       "0             3014.0                34.056610                -118.23721   \n",
       "1             3014.0                34.056610                -118.23721   \n",
       "2             3016.0                34.052898                -118.24156   \n",
       "3             3016.0                34.052898                -118.24156   \n",
       "4             3032.0                34.049889                -118.25588   \n",
       "\n",
       "   Bike ID  Plan Duration Trip Route Category Passholder Type  \\\n",
       "0   6281.0           30.0          Round Trip    Monthly Pass   \n",
       "1   6281.0           30.0          Round Trip    Monthly Pass   \n",
       "2   5861.0          365.0          Round Trip       Flex Pass   \n",
       "3   5861.0          365.0          Round Trip       Flex Pass   \n",
       "4   6674.0            0.0          Round Trip         Walk-up   \n",
       "\n",
       "                                   Starting Lat-Long  \\\n",
       "0  {'longitude': '-118.23721', 'latitude': '34.05...   \n",
       "1  {'longitude': '-118.23721', 'latitude': '34.05...   \n",
       "2  {'longitude': '-118.24156', 'latitude': '34.05...   \n",
       "3  {'longitude': '-118.24156', 'latitude': '34.05...   \n",
       "4  {'longitude': '-118.25588', 'latitude': '34.04...   \n",
       "\n",
       "                                     Ending Lat-Long  \n",
       "0  {'longitude': '-118.23721', 'latitude': '34.05...  \n",
       "1  {'longitude': '-118.23721', 'latitude': '34.05...  \n",
       "2  {'longitude': '-118.24156', 'latitude': '34.05...  \n",
       "3  {'longitude': '-118.24156', 'latitude': '34.05...  \n",
       "4  {'longitude': '-118.25588', 'latitude': '34.04...  "
      ]
     },
     "execution_count": 3,
     "metadata": {},
     "output_type": "execute_result"
    }
   ],
   "source": [
    "df.head()"
   ]
  },
  {
   "cell_type": "code",
   "execution_count": 4,
   "metadata": {},
   "outputs": [
    {
     "name": "stdout",
     "output_type": "stream",
     "text": [
      "<class 'pandas.core.frame.DataFrame'>\n",
      "RangeIndex: 132427 entries, 0 to 132426\n",
      "Data columns (total 16 columns):\n",
      "Trip ID                       132427 non-null int64\n",
      "Duration                      132427 non-null int64\n",
      "Start Time                    132427 non-null object\n",
      "End Time                      132427 non-null object\n",
      "Starting Station ID           132408 non-null float64\n",
      "Starting Station Latitude     132379 non-null float64\n",
      "Starting Station Longitude    132379 non-null float64\n",
      "Ending Station ID             132331 non-null float64\n",
      "Ending Station Latitude       131376 non-null float64\n",
      "Ending Station Longitude      131376 non-null float64\n",
      "Bike ID                       132417 non-null float64\n",
      "Plan Duration                 131661 non-null float64\n",
      "Trip Route Category           132427 non-null object\n",
      "Passholder Type               132427 non-null object\n",
      "Starting Lat-Long             98622 non-null object\n",
      "Ending Lat-Long               131376 non-null object\n",
      "dtypes: float64(8), int64(2), object(6)\n",
      "memory usage: 16.2+ MB\n"
     ]
    }
   ],
   "source": [
    "df.info()"
   ]
  },
  {
   "cell_type": "markdown",
   "metadata": {},
   "source": [
    "Check whether dataframe has any null values"
   ]
  },
  {
   "cell_type": "code",
   "execution_count": 5,
   "metadata": {},
   "outputs": [
    {
     "data": {
      "text/plain": [
       "True"
      ]
     },
     "execution_count": 5,
     "metadata": {},
     "output_type": "execute_result"
    }
   ],
   "source": [
    "df.isnull().any().any()"
   ]
  },
  {
   "cell_type": "markdown",
   "metadata": {},
   "source": [
    "Drop out rows with null values from the dataframe"
   ]
  },
  {
   "cell_type": "code",
   "execution_count": 6,
   "metadata": {},
   "outputs": [],
   "source": [
    "df = df.dropna()"
   ]
  },
  {
   "cell_type": "markdown",
   "metadata": {},
   "source": [
    "### Duration\n",
    "Let's take a look at the Duration column"
   ]
  },
  {
   "cell_type": "code",
   "execution_count": 7,
   "metadata": {},
   "outputs": [
    {
     "data": {
      "text/plain": [
       "<matplotlib.axes._subplots.AxesSubplot at 0x1af16668>"
      ]
     },
     "execution_count": 7,
     "metadata": {},
     "output_type": "execute_result"
    },
    {
     "data": {
      "image/png": "[encoded data removed]",
      "text/plain": [
       "<matplotlib.figure.Figure at 0x19a4cf98>"
      ]
     },
     "metadata": {},
     "output_type": "display_data"
    }
   ],
   "source": [
    "sns.distplot(df['Duration'])"
   ]
  },
  {
   "cell_type": "code",
   "execution_count": 8,
   "metadata": {},
   "outputs": [
    {
     "name": "stdout",
     "output_type": "stream",
     "text": [
      "0th percentile = 60.0\n",
      "1th percentile = 120.0\n",
      "5th percentile = 180.0\n",
      "20th percentile = 360.0\n",
      "30th percentile = 420.0\n",
      "40th percentile = 540.0\n",
      "50th percentile = 600.0\n",
      "60th percentile = 780.0\n",
      "70th percentile = 960.0\n",
      "80th percentile = 1260.0\n",
      "90th percentile = 1980.0\n",
      "100th percentile = 86400.0\n"
     ]
    }
   ],
   "source": [
    "def percentiles(column, percentiles):\n",
    "    for percentile in percentiles:\n",
    "        print('{0}th percentile = {1}'.format(percentile, np.percentile(column,percentile)))\n",
    "        \n",
    "percentiles(df['Duration'],[0,1,5,20,30,40,50,60,70,80,90,100])"
   ]
  },
  {
   "cell_type": "markdown",
   "metadata": {},
   "source": [
    "These is no explicit breakthrough in data distribution that could cleary testify that some values are outliers. Also there are no 0 values. It is resonable to normalize distribution of this column by a logarithm."
   ]
  },
  {
   "cell_type": "code",
   "execution_count": 9,
   "metadata": {},
   "outputs": [
    {
     "data": {
      "text/plain": [
       "<matplotlib.axes._subplots.AxesSubplot at 0x1a3e3550>"
      ]
     },
     "execution_count": 9,
     "metadata": {},
     "output_type": "execute_result"
    },
    {
     "data": {
      "image/png": "[encoded data removed]",
      "text/plain": [
       "<matplotlib.figure.Figure at 0x49716a0>"
      ]
     },
     "metadata": {},
     "output_type": "display_data"
    }
   ],
   "source": [
    "df['Duration_log'] = np.log(df['Duration'])\n",
    "sns.distplot(df['Duration_log'])"
   ]
  },
  {
   "cell_type": "code",
   "execution_count": 10,
   "metadata": {},
   "outputs": [
    {
     "name": "stdout",
     "output_type": "stream",
     "text": [
      "Trip route categories:  ['Round Trip' 'One Way']\n",
      "Passholder Types:  ['Monthly Pass' 'Flex Pass' 'Walk-up']\n"
     ]
    }
   ],
   "source": [
    "print('Trip route categories: ',df['Trip Route Category'].unique())\n",
    "print('Passholder Types: ',df['Passholder Type'].unique())"
   ]
  },
  {
   "cell_type": "markdown",
   "metadata": {},
   "source": [
    "The only provided identifier of Bike Share user is 'Passholder Type'"
   ]
  },
  {
   "cell_type": "code",
   "execution_count": 11,
   "metadata": {},
   "outputs": [
    {
     "data": {
      "text/plain": [
       "<seaborn.axisgrid.FacetGrid at 0x1a509f98>"
      ]
     },
     "execution_count": 11,
     "metadata": {},
     "output_type": "execute_result"
    },
    {
     "data": {
      "image/png": "[encoded data removed]",
      "text/plain": [
       "<matplotlib.figure.Figure at 0x1a509278>"
      ]
     },
     "metadata": {},
     "output_type": "display_data"
    }
   ],
   "source": [
    "sns.catplot(x = 'Passholder Type', y = 'Duration', data = df)"
   ]
  },
  {
   "cell_type": "markdown",
   "metadata": {},
   "source": [
    "### Distance\n",
    "Database provides Starting and Ending stations longitudes and latitudes. For 'One Way' trip route we can calculate distance between two stations."
   ]
  },
  {
   "cell_type": "code",
   "execution_count": 12,
   "metadata": {},
   "outputs": [],
   "source": [
    "def distance_between_coordinates(lat1, lon1, lat2, lon2):\n",
    "    earth_radius_km = 6371\n",
    "    \n",
    "    lat1 = math.radians(lat1)\n",
    "    lat2 = math.radians(lat2)\n",
    "    lon1 = math.radians(lon1)\n",
    "    lon2 = math.radians(lon2)\n",
    "    d_lat = lat2 - lat1\n",
    "    d_lon = lon2 - lon1\n",
    "    \n",
    "    a = math.sin(d_lat / 2)**2 + math.cos(lat1) * math.cos(lat2) * math.sin(d_lon / 2)**2\n",
    "    c = 2 * math.atan2(math.sqrt(a), math.sqrt(1 - a))\n",
    "    return  earth_radius_km * c"
   ]
  },
  {
   "cell_type": "code",
   "execution_count": 13,
   "metadata": {},
   "outputs": [],
   "source": [
    "df['Distance'] = df.apply(lambda x: distance_between_coordinates(x['Starting Station Latitude'],x['Starting Station Longitude'],x['Ending Station Latitude'],x['Ending Station Longitude']),axis = 1)"
   ]
  },
  {
   "cell_type": "markdown",
   "metadata": {},
   "source": [
    "Having two columns Distance and duration it is reasonable to predict Passholder Type column. Part of Distance column is empty, so I make a copy of df where Distance is greater than 0."
   ]
  },
  {
   "cell_type": "code",
   "execution_count": 14,
   "metadata": {},
   "outputs": [],
   "source": [
    "df_copy = df[df.Distance > 0]"
   ]
  },
  {
   "cell_type": "code",
   "execution_count": 15,
   "metadata": {},
   "outputs": [
    {
     "data": {
      "text/html": [
       "<div>\n",
       "<style scoped>\n",
       "    .dataframe tbody tr th:only-of-type {\n",
       "        vertical-align: middle;\n",
       "    }\n",
       "\n",
       "    .dataframe tbody tr th {\n",
       "        vertical-align: top;\n",
       "    }\n",
       "\n",
       "    .dataframe thead th {\n",
       "        text-align: right;\n",
       "    }\n",
       "</style>\n",
       "<table border=\"1\" class=\"dataframe\">\n",
       "  <thead>\n",
       "    <tr style=\"text-align: right;\">\n",
       "      <th></th>\n",
       "      <th>Trip ID</th>\n",
       "      <th>Duration</th>\n",
       "      <th>Start Time</th>\n",
       "      <th>End Time</th>\n",
       "      <th>Starting Station ID</th>\n",
       "      <th>Starting Station Latitude</th>\n",
       "      <th>Starting Station Longitude</th>\n",
       "      <th>Ending Station ID</th>\n",
       "      <th>Ending Station Latitude</th>\n",
       "      <th>Ending Station Longitude</th>\n",
       "      <th>Bike ID</th>\n",
       "      <th>Plan Duration</th>\n",
       "      <th>Trip Route Category</th>\n",
       "      <th>Passholder Type</th>\n",
       "      <th>Starting Lat-Long</th>\n",
       "      <th>Ending Lat-Long</th>\n",
       "      <th>Duration_log</th>\n",
       "      <th>Distance</th>\n",
       "    </tr>\n",
       "  </thead>\n",
       "  <tbody>\n",
       "    <tr>\n",
       "      <th>5</th>\n",
       "      <td>1944075</td>\n",
       "      <td>780</td>\n",
       "      <td>2016-07-07T12:51:00</td>\n",
       "      <td>2016-07-07T13:04:00</td>\n",
       "      <td>3021.0</td>\n",
       "      <td>34.045609</td>\n",
       "      <td>-118.23703</td>\n",
       "      <td>3054.0</td>\n",
       "      <td>34.039219</td>\n",
       "      <td>-118.23649</td>\n",
       "      <td>6717.0</td>\n",
       "      <td>30.0</td>\n",
       "      <td>One Way</td>\n",
       "      <td>Monthly Pass</td>\n",
       "      <td>{'longitude': '-118.23703', 'latitude': '34.04...</td>\n",
       "      <td>{'longitude': '-118.23649', 'latitude': '34.03...</td>\n",
       "      <td>6.659294</td>\n",
       "      <td>0.712231</td>\n",
       "    </tr>\n",
       "    <tr>\n",
       "      <th>6</th>\n",
       "      <td>1944073</td>\n",
       "      <td>600</td>\n",
       "      <td>2016-07-07T12:54:00</td>\n",
       "      <td>2016-07-07T13:04:00</td>\n",
       "      <td>3022.0</td>\n",
       "      <td>34.046070</td>\n",
       "      <td>-118.23309</td>\n",
       "      <td>3014.0</td>\n",
       "      <td>34.056610</td>\n",
       "      <td>-118.23721</td>\n",
       "      <td>5721.0</td>\n",
       "      <td>30.0</td>\n",
       "      <td>One Way</td>\n",
       "      <td>Monthly Pass</td>\n",
       "      <td>{'longitude': '-118.23309', 'latitude': '34.04...</td>\n",
       "      <td>{'longitude': '-118.23721', 'latitude': '34.05...</td>\n",
       "      <td>6.396930</td>\n",
       "      <td>1.231928</td>\n",
       "    </tr>\n",
       "    <tr>\n",
       "      <th>7</th>\n",
       "      <td>1944067</td>\n",
       "      <td>600</td>\n",
       "      <td>2016-07-07T12:59:00</td>\n",
       "      <td>2016-07-07T13:09:00</td>\n",
       "      <td>3076.0</td>\n",
       "      <td>34.040600</td>\n",
       "      <td>-118.25384</td>\n",
       "      <td>3005.0</td>\n",
       "      <td>34.048550</td>\n",
       "      <td>-118.25905</td>\n",
       "      <td>5957.0</td>\n",
       "      <td>365.0</td>\n",
       "      <td>One Way</td>\n",
       "      <td>Flex Pass</td>\n",
       "      <td>{'longitude': '-118.25384', 'latitude': '34.04...</td>\n",
       "      <td>{'longitude': '-118.25905', 'latitude': '34.04...</td>\n",
       "      <td>6.396930</td>\n",
       "      <td>1.005915</td>\n",
       "    </tr>\n",
       "    <tr>\n",
       "      <th>9</th>\n",
       "      <td>1944063</td>\n",
       "      <td>960</td>\n",
       "      <td>2016-07-07T13:01:00</td>\n",
       "      <td>2016-07-07T13:17:00</td>\n",
       "      <td>3031.0</td>\n",
       "      <td>34.044701</td>\n",
       "      <td>-118.25244</td>\n",
       "      <td>3078.0</td>\n",
       "      <td>34.064281</td>\n",
       "      <td>-118.23894</td>\n",
       "      <td>6351.0</td>\n",
       "      <td>30.0</td>\n",
       "      <td>One Way</td>\n",
       "      <td>Monthly Pass</td>\n",
       "      <td>{'longitude': '-118.25244', 'latitude': '34.04...</td>\n",
       "      <td>{'longitude': '-118.23894', 'latitude': '34.06...</td>\n",
       "      <td>6.866933</td>\n",
       "      <td>2.507469</td>\n",
       "    </tr>\n",
       "    <tr>\n",
       "      <th>10</th>\n",
       "      <td>1944061</td>\n",
       "      <td>960</td>\n",
       "      <td>2016-07-07T13:02:00</td>\n",
       "      <td>2016-07-07T13:18:00</td>\n",
       "      <td>3031.0</td>\n",
       "      <td>34.044701</td>\n",
       "      <td>-118.25244</td>\n",
       "      <td>3047.0</td>\n",
       "      <td>34.039982</td>\n",
       "      <td>-118.26640</td>\n",
       "      <td>6200.0</td>\n",
       "      <td>365.0</td>\n",
       "      <td>One Way</td>\n",
       "      <td>Flex Pass</td>\n",
       "      <td>{'longitude': '-118.25244', 'latitude': '34.04...</td>\n",
       "      <td>{'longitude': '-118.2664', 'latitude': '34.039...</td>\n",
       "      <td>6.866933</td>\n",
       "      <td>1.389164</td>\n",
       "    </tr>\n",
       "  </tbody>\n",
       "</table>\n",
       "</div>"
      ],
      "text/plain": [
       "    Trip ID  Duration           Start Time             End Time  \\\n",
       "5   1944075       780  2016-07-07T12:51:00  2016-07-07T13:04:00   \n",
       "6   1944073       600  2016-07-07T12:54:00  2016-07-07T13:04:00   \n",
       "7   1944067       600  2016-07-07T12:59:00  2016-07-07T13:09:00   \n",
       "9   1944063       960  2016-07-07T13:01:00  2016-07-07T13:17:00   \n",
       "10  1944061       960  2016-07-07T13:02:00  2016-07-07T13:18:00   \n",
       "\n",
       "    Starting Station ID  Starting Station Latitude  \\\n",
       "5                3021.0                  34.045609   \n",
       "6                3022.0                  34.046070   \n",
       "7                3076.0                  34.040600   \n",
       "9                3031.0                  34.044701   \n",
       "10               3031.0                  34.044701   \n",
       "\n",
       "    Starting Station Longitude  Ending Station ID  Ending Station Latitude  \\\n",
       "5                   -118.23703             3054.0                34.039219   \n",
       "6                   -118.23309             3014.0                34.056610   \n",
       "7                   -118.25384             3005.0                34.048550   \n",
       "9                   -118.25244             3078.0                34.064281   \n",
       "10                  -118.25244             3047.0                34.039982   \n",
       "\n",
       "    Ending Station Longitude  Bike ID  Plan Duration Trip Route Category  \\\n",
       "5                 -118.23649   6717.0           30.0             One Way   \n",
       "6                 -118.23721   5721.0           30.0             One Way   \n",
       "7                 -118.25905   5957.0          365.0             One Way   \n",
       "9                 -118.23894   6351.0           30.0             One Way   \n",
       "10                -118.26640   6200.0          365.0             One Way   \n",
       "\n",
       "   Passholder Type                                  Starting Lat-Long  \\\n",
       "5     Monthly Pass  {'longitude': '-118.23703', 'latitude': '34.04...   \n",
       "6     Monthly Pass  {'longitude': '-118.23309', 'latitude': '34.04...   \n",
       "7        Flex Pass  {'longitude': '-118.25384', 'latitude': '34.04...   \n",
       "9     Monthly Pass  {'longitude': '-118.25244', 'latitude': '34.04...   \n",
       "10       Flex Pass  {'longitude': '-118.25244', 'latitude': '34.04...   \n",
       "\n",
       "                                      Ending Lat-Long  Duration_log  Distance  \n",
       "5   {'longitude': '-118.23649', 'latitude': '34.03...      6.659294  0.712231  \n",
       "6   {'longitude': '-118.23721', 'latitude': '34.05...      6.396930  1.231928  \n",
       "7   {'longitude': '-118.25905', 'latitude': '34.04...      6.396930  1.005915  \n",
       "9   {'longitude': '-118.23894', 'latitude': '34.06...      6.866933  2.507469  \n",
       "10  {'longitude': '-118.2664', 'latitude': '34.039...      6.866933  1.389164  "
      ]
     },
     "execution_count": 15,
     "metadata": {},
     "output_type": "execute_result"
    }
   ],
   "source": [
    "df_copy.head()"
   ]
  },
  {
   "cell_type": "code",
   "execution_count": 16,
   "metadata": {},
   "outputs": [
    {
     "data": {
      "text/plain": [
       "(88266, 18)"
      ]
     },
     "execution_count": 16,
     "metadata": {},
     "output_type": "execute_result"
    }
   ],
   "source": [
    "df_copy.shape"
   ]
  },
  {
   "cell_type": "markdown",
   "metadata": {},
   "source": [
    "88266 rows is still quite a lot of data. Passholder Type is multiclass column (three classes). My approach is to use One vs. Rest to predict Passholder type."
   ]
  },
  {
   "cell_type": "code",
   "execution_count": 17,
   "metadata": {},
   "outputs": [
    {
     "data": {
      "text/html": [
       "<div>\n",
       "<style scoped>\n",
       "    .dataframe tbody tr th:only-of-type {\n",
       "        vertical-align: middle;\n",
       "    }\n",
       "\n",
       "    .dataframe tbody tr th {\n",
       "        vertical-align: top;\n",
       "    }\n",
       "\n",
       "    .dataframe thead th {\n",
       "        text-align: right;\n",
       "    }\n",
       "</style>\n",
       "<table border=\"1\" class=\"dataframe\">\n",
       "  <thead>\n",
       "    <tr style=\"text-align: right;\">\n",
       "      <th></th>\n",
       "      <th>Trip ID</th>\n",
       "      <th>Duration</th>\n",
       "      <th>Start Time</th>\n",
       "      <th>End Time</th>\n",
       "      <th>Starting Station ID</th>\n",
       "      <th>Starting Station Latitude</th>\n",
       "      <th>Starting Station Longitude</th>\n",
       "      <th>Ending Station ID</th>\n",
       "      <th>Ending Station Latitude</th>\n",
       "      <th>Ending Station Longitude</th>\n",
       "      <th>Bike ID</th>\n",
       "      <th>Plan Duration</th>\n",
       "      <th>Trip Route Category</th>\n",
       "      <th>Passholder Type</th>\n",
       "      <th>Starting Lat-Long</th>\n",
       "      <th>Ending Lat-Long</th>\n",
       "      <th>Duration_log</th>\n",
       "      <th>Distance</th>\n",
       "      <th>Flex Pass</th>\n",
       "      <th>Monthly Pass</th>\n",
       "      <th>Walk-up</th>\n",
       "    </tr>\n",
       "  </thead>\n",
       "  <tbody>\n",
       "    <tr>\n",
       "      <th>5</th>\n",
       "      <td>1944075</td>\n",
       "      <td>780</td>\n",
       "      <td>2016-07-07T12:51:00</td>\n",
       "      <td>2016-07-07T13:04:00</td>\n",
       "      <td>3021.0</td>\n",
       "      <td>34.045609</td>\n",
       "      <td>-118.23703</td>\n",
       "      <td>3054.0</td>\n",
       "      <td>34.039219</td>\n",
       "      <td>-118.23649</td>\n",
       "      <td>6717.0</td>\n",
       "      <td>30.0</td>\n",
       "      <td>One Way</td>\n",
       "      <td>Monthly Pass</td>\n",
       "      <td>{'longitude': '-118.23703', 'latitude': '34.04...</td>\n",
       "      <td>{'longitude': '-118.23649', 'latitude': '34.03...</td>\n",
       "      <td>6.659294</td>\n",
       "      <td>0.712231</td>\n",
       "      <td>0</td>\n",
       "      <td>1</td>\n",
       "      <td>0</td>\n",
       "    </tr>\n",
       "    <tr>\n",
       "      <th>6</th>\n",
       "      <td>1944073</td>\n",
       "      <td>600</td>\n",
       "      <td>2016-07-07T12:54:00</td>\n",
       "      <td>2016-07-07T13:04:00</td>\n",
       "      <td>3022.0</td>\n",
       "      <td>34.046070</td>\n",
       "      <td>-118.23309</td>\n",
       "      <td>3014.0</td>\n",
       "      <td>34.056610</td>\n",
       "      <td>-118.23721</td>\n",
       "      <td>5721.0</td>\n",
       "      <td>30.0</td>\n",
       "      <td>One Way</td>\n",
       "      <td>Monthly Pass</td>\n",
       "      <td>{'longitude': '-118.23309', 'latitude': '34.04...</td>\n",
       "      <td>{'longitude': '-118.23721', 'latitude': '34.05...</td>\n",
       "      <td>6.396930</td>\n",
       "      <td>1.231928</td>\n",
       "      <td>0</td>\n",
       "      <td>1</td>\n",
       "      <td>0</td>\n",
       "    </tr>\n",
       "    <tr>\n",
       "      <th>7</th>\n",
       "      <td>1944067</td>\n",
       "      <td>600</td>\n",
       "      <td>2016-07-07T12:59:00</td>\n",
       "      <td>2016-07-07T13:09:00</td>\n",
       "      <td>3076.0</td>\n",
       "      <td>34.040600</td>\n",
       "      <td>-118.25384</td>\n",
       "      <td>3005.0</td>\n",
       "      <td>34.048550</td>\n",
       "      <td>-118.25905</td>\n",
       "      <td>5957.0</td>\n",
       "      <td>365.0</td>\n",
       "      <td>One Way</td>\n",
       "      <td>Flex Pass</td>\n",
       "      <td>{'longitude': '-118.25384', 'latitude': '34.04...</td>\n",
       "      <td>{'longitude': '-118.25905', 'latitude': '34.04...</td>\n",
       "      <td>6.396930</td>\n",
       "      <td>1.005915</td>\n",
       "      <td>1</td>\n",
       "      <td>0</td>\n",
       "      <td>0</td>\n",
       "    </tr>\n",
       "    <tr>\n",
       "      <th>9</th>\n",
       "      <td>1944063</td>\n",
       "      <td>960</td>\n",
       "      <td>2016-07-07T13:01:00</td>\n",
       "      <td>2016-07-07T13:17:00</td>\n",
       "      <td>3031.0</td>\n",
       "      <td>34.044701</td>\n",
       "      <td>-118.25244</td>\n",
       "      <td>3078.0</td>\n",
       "      <td>34.064281</td>\n",
       "      <td>-118.23894</td>\n",
       "      <td>6351.0</td>\n",
       "      <td>30.0</td>\n",
       "      <td>One Way</td>\n",
       "      <td>Monthly Pass</td>\n",
       "      <td>{'longitude': '-118.25244', 'latitude': '34.04...</td>\n",
       "      <td>{'longitude': '-118.23894', 'latitude': '34.06...</td>\n",
       "      <td>6.866933</td>\n",
       "      <td>2.507469</td>\n",
       "      <td>0</td>\n",
       "      <td>1</td>\n",
       "      <td>0</td>\n",
       "    </tr>\n",
       "    <tr>\n",
       "      <th>10</th>\n",
       "      <td>1944061</td>\n",
       "      <td>960</td>\n",
       "      <td>2016-07-07T13:02:00</td>\n",
       "      <td>2016-07-07T13:18:00</td>\n",
       "      <td>3031.0</td>\n",
       "      <td>34.044701</td>\n",
       "      <td>-118.25244</td>\n",
       "      <td>3047.0</td>\n",
       "      <td>34.039982</td>\n",
       "      <td>-118.26640</td>\n",
       "      <td>6200.0</td>\n",
       "      <td>365.0</td>\n",
       "      <td>One Way</td>\n",
       "      <td>Flex Pass</td>\n",
       "      <td>{'longitude': '-118.25244', 'latitude': '34.04...</td>\n",
       "      <td>{'longitude': '-118.2664', 'latitude': '34.039...</td>\n",
       "      <td>6.866933</td>\n",
       "      <td>1.389164</td>\n",
       "      <td>1</td>\n",
       "      <td>0</td>\n",
       "      <td>0</td>\n",
       "    </tr>\n",
       "  </tbody>\n",
       "</table>\n",
       "</div>"
      ],
      "text/plain": [
       "    Trip ID  Duration           Start Time             End Time  \\\n",
       "5   1944075       780  2016-07-07T12:51:00  2016-07-07T13:04:00   \n",
       "6   1944073       600  2016-07-07T12:54:00  2016-07-07T13:04:00   \n",
       "7   1944067       600  2016-07-07T12:59:00  2016-07-07T13:09:00   \n",
       "9   1944063       960  2016-07-07T13:01:00  2016-07-07T13:17:00   \n",
       "10  1944061       960  2016-07-07T13:02:00  2016-07-07T13:18:00   \n",
       "\n",
       "    Starting Station ID  Starting Station Latitude  \\\n",
       "5                3021.0                  34.045609   \n",
       "6                3022.0                  34.046070   \n",
       "7                3076.0                  34.040600   \n",
       "9                3031.0                  34.044701   \n",
       "10               3031.0                  34.044701   \n",
       "\n",
       "    Starting Station Longitude  Ending Station ID  Ending Station Latitude  \\\n",
       "5                   -118.23703             3054.0                34.039219   \n",
       "6                   -118.23309             3014.0                34.056610   \n",
       "7                   -118.25384             3005.0                34.048550   \n",
       "9                   -118.25244             3078.0                34.064281   \n",
       "10                  -118.25244             3047.0                34.039982   \n",
       "\n",
       "    Ending Station Longitude  Bike ID  Plan Duration Trip Route Category  \\\n",
       "5                 -118.23649   6717.0           30.0             One Way   \n",
       "6                 -118.23721   5721.0           30.0             One Way   \n",
       "7                 -118.25905   5957.0          365.0             One Way   \n",
       "9                 -118.23894   6351.0           30.0             One Way   \n",
       "10                -118.26640   6200.0          365.0             One Way   \n",
       "\n",
       "   Passholder Type                                  Starting Lat-Long  \\\n",
       "5     Monthly Pass  {'longitude': '-118.23703', 'latitude': '34.04...   \n",
       "6     Monthly Pass  {'longitude': '-118.23309', 'latitude': '34.04...   \n",
       "7        Flex Pass  {'longitude': '-118.25384', 'latitude': '34.04...   \n",
       "9     Monthly Pass  {'longitude': '-118.25244', 'latitude': '34.04...   \n",
       "10       Flex Pass  {'longitude': '-118.25244', 'latitude': '34.04...   \n",
       "\n",
       "                                      Ending Lat-Long  Duration_log  Distance  \\\n",
       "5   {'longitude': '-118.23649', 'latitude': '34.03...      6.659294  0.712231   \n",
       "6   {'longitude': '-118.23721', 'latitude': '34.05...      6.396930  1.231928   \n",
       "7   {'longitude': '-118.25905', 'latitude': '34.04...      6.396930  1.005915   \n",
       "9   {'longitude': '-118.23894', 'latitude': '34.06...      6.866933  2.507469   \n",
       "10  {'longitude': '-118.2664', 'latitude': '34.039...      6.866933  1.389164   \n",
       "\n",
       "    Flex Pass  Monthly Pass  Walk-up  \n",
       "5           0             1        0  \n",
       "6           0             1        0  \n",
       "7           1             0        0  \n",
       "9           0             1        0  \n",
       "10          1             0        0  "
      ]
     },
     "execution_count": 17,
     "metadata": {},
     "output_type": "execute_result"
    }
   ],
   "source": [
    "df_copy = pd.concat([df_copy,pd.get_dummies(df_copy['Passholder Type'])],axis = 1)\n",
    "df_copy.head()"
   ]
  },
  {
   "cell_type": "markdown",
   "metadata": {},
   "source": [
    "## Model construction"
   ]
  },
  {
   "cell_type": "code",
   "execution_count": 18,
   "metadata": {},
   "outputs": [],
   "source": [
    "\n",
    "X = df_copy[['Duration_log','Distance']]\n",
    "\n",
    "def split_predict(X,columns,model=LogisticRegression(),metric = accuracy_score):\n",
    "    for column in columns:\n",
    "        y = df_copy[column]\n",
    "        X_train, X_test, y_train, y_test = train_test_split(X,y,test_size = 0.3, random_state = 2000)\n",
    "        model.fit(X_train,y_train)\n",
    "        y_pred = model.predict(X_test)\n",
    "        print('Prediction for column {0}: {1}'.format(column, accuracy_score(y_test,y_pred)))"
   ]
  },
  {
   "cell_type": "code",
   "execution_count": 19,
   "metadata": {},
   "outputs": [
    {
     "name": "stdout",
     "output_type": "stream",
     "text": [
      "Prediction for column Flex Pass: 0.9217522658610272\n",
      "Prediction for column Monthly Pass: 0.706344410876133\n",
      "Prediction for column Walk-up: 0.7672583081570997\n"
     ]
    }
   ],
   "source": [
    "split_predict(X,['Flex Pass','Monthly Pass','Walk-up'])"
   ]
  },
  {
   "cell_type": "code",
   "execution_count": 20,
   "metadata": {},
   "outputs": [
    {
     "name": "stdout",
     "output_type": "stream",
     "text": [
      "Prediction for column Flex Pass: 0.9039274924471299\n",
      "Prediction for column Monthly Pass: 0.7128776435045318\n",
      "Prediction for column Walk-up: 0.7668429003021148\n"
     ]
    }
   ],
   "source": [
    "#Decision Tree Classifier\n",
    "split_predict(X,['Flex Pass','Monthly Pass','Walk-up'],DecisionTreeClassifier())"
   ]
  },
  {
   "cell_type": "code",
   "execution_count": 21,
   "metadata": {},
   "outputs": [
    {
     "name": "stdout",
     "output_type": "stream",
     "text": [
      "Prediction for column Flex Pass: 0.9065332326283988\n",
      "Prediction for column Monthly Pass: 0.7105740181268883\n",
      "Prediction for column Walk-up: 0.7639728096676737\n"
     ]
    }
   ],
   "source": [
    "#Extra Trees Classifier\n",
    "split_predict(X,['Flex Pass','Monthly Pass','Walk-up'],ExtraTreesClassifier())"
   ]
  },
  {
   "cell_type": "markdown",
   "metadata": {},
   "source": [
    "As seen above, there is no significant difference betweent these three models predictions. It is caused by very limited number of features"
   ]
  }
 ],
 "metadata": {
  "kernelspec": {
   "display_name": "Python 3",
   "language": "python",
   "name": "python3"
  },
  "language_info": {
   "codemirror_mode": {
    "name": "ipython",
    "version": 3
   },
   "file_extension": ".py",
   "mimetype": "text/x-python",
   "name": "python",
   "nbconvert_exporter": "python",
   "pygments_lexer": "ipython3",
   "version": "3.6.4"
  }
 },
 "nbformat": 4,
 "nbformat_minor": 2
}
